{
 "cells": [
  {
   "cell_type": "code",
   "execution_count": 1,
   "id": "010b78ad",
   "metadata": {},
   "outputs": [],
   "source": [
    "from pyspark.sql import SparkSession\n",
    "from pyspark.sql import functions as F\n",
    "from pyspark.sql.window import Window\n",
    "from pyspark.sql.types import * \n",
    "\n",
    "# Creamos una sesión usando SparkSession\n",
    "spark = (SparkSession\n",
    ".builder\n",
    ".appName(\"Nasa\")\n",
    ".getOrCreate())"
   ]
  },
  {
   "cell_type": "code",
   "execution_count": 2,
   "id": "d04d51a2",
   "metadata": {},
   "outputs": [],
   "source": [
    "julio = \"NASA_Access_Log_Jul95.gz\""
   ]
  },
  {
   "cell_type": "code",
   "execution_count": 3,
   "id": "85acf666",
   "metadata": {},
   "outputs": [],
   "source": [
    "nasaLogsJulio = spark.read.options(delimiter = \" \").csv(julio)"
   ]
  },
  {
   "cell_type": "code",
   "execution_count": 4,
   "id": "e1316687",
   "metadata": {},
   "outputs": [
    {
     "name": "stdout",
     "output_type": "stream",
     "text": [
      "+------------+---+---+---------------------+------+-----------------------------+---+----+\n",
      "|_c0         |_c1|_c2|_c3                  |_c4   |_c5                          |_c6|_c7 |\n",
      "+------------+---+---+---------------------+------+-----------------------------+---+----+\n",
      "|199.72.81.55|-  |-  |[01/Jul/1995:00:00:01|-0400]|GET /history/apollo/ HTTP/1.0|200|6245|\n",
      "+------------+---+---+---------------------+------+-----------------------------+---+----+\n",
      "only showing top 1 row\n",
      "\n"
     ]
    }
   ],
   "source": [
    "nasaLogsJulio.show(1, False)"
   ]
  },
  {
   "cell_type": "code",
   "execution_count": 5,
   "id": "fdac79e1",
   "metadata": {},
   "outputs": [],
   "source": [
    "nasaLogsJulio = nasaLogsJulio.withColumn(\"_c3\", F.regexp_replace((\"_c3\"), \"\\[\", \"\"))\n",
    "nasaLogsJulio = nasaLogsJulio.withColumn(\"_c4\", F.regexp_replace((\"_c4\"), \"\\]\", \"\"))\n",
    "nasaLogsJulio = nasaLogsJulio.withColumn(\"RequestMethod\", F.regexp_replace((\"_c5\"), \"(\\w+).*\", \"$1\"))\n",
    "nasaLogsJulio = nasaLogsJulio.withColumn(\"Resource\", F.regexp_replace((\"_c5\"), \"\\S+\\s(\\S+).*\", \"$1\"))\n",
    "nasaLogsJulio = nasaLogsJulio.withColumn(\"Protocol\", F.regexp_replace((\"_c5\"), \"\\S+\\s+\\S+\\s(\\S+).*\", \"$1\"))\n",
    "nasaLogsJulio = nasaLogsJulio.drop(\"_c5\")"
   ]
  },
  {
   "cell_type": "code",
   "execution_count": 6,
   "id": "1fb0ad25",
   "metadata": {},
   "outputs": [
    {
     "name": "stdout",
     "output_type": "stream",
     "text": [
      "+------------+---+---+--------------------+-----+---+----+-------------+----------------+--------+\n",
      "|_c0         |_c1|_c2|_c3                 |_c4  |_c6|_c7 |RequestMethod|Resource        |Protocol|\n",
      "+------------+---+---+--------------------+-----+---+----+-------------+----------------+--------+\n",
      "|199.72.81.55|-  |-  |01/Jul/1995:00:00:01|-0400|200|6245|GET          |/history/apollo/|HTTP/1.0|\n",
      "+------------+---+---+--------------------+-----+---+----+-------------+----------------+--------+\n",
      "only showing top 1 row\n",
      "\n"
     ]
    }
   ],
   "source": [
    "nasaLogsJulio.show(1, truncate = False)"
   ]
  },
  {
   "cell_type": "code",
   "execution_count": 7,
   "id": "1f21b973",
   "metadata": {},
   "outputs": [],
   "source": [
    "nasaLogsJulio = nasaLogsJulio.withColumnRenamed(\"_c0\", \"Host\")\\\n",
    "                             .withColumnRenamed(\"_c1\", \"UserIdentifier\")\\\n",
    "                             .withColumnRenamed(\"_c2\", \"UserId\")\\\n",
    "                             .withColumnRenamed(\"_c4\", \"TimeZone\")\\\n",
    "                             .withColumnRenamed(\"_c6\", \"HttpStatus\")\\\n",
    "                             .withColumnRenamed(\"_c7\", \"Size\")"
   ]
  },
  {
   "cell_type": "code",
   "execution_count": 8,
   "id": "1df3d45f",
   "metadata": {},
   "outputs": [
    {
     "name": "stdout",
     "output_type": "stream",
     "text": [
      "+------------+--------------+------+--------------------+--------+----------+----+-------------+----------------+--------+\n",
      "|Host        |UserIdentifier|UserId|_c3                 |TimeZone|HttpStatus|Size|RequestMethod|Resource        |Protocol|\n",
      "+------------+--------------+------+--------------------+--------+----------+----+-------------+----------------+--------+\n",
      "|199.72.81.55|-             |-     |01/Jul/1995:00:00:01|-0400   |200       |6245|GET          |/history/apollo/|HTTP/1.0|\n",
      "+------------+--------------+------+--------------------+--------+----------+----+-------------+----------------+--------+\n",
      "only showing top 1 row\n",
      "\n"
     ]
    }
   ],
   "source": [
    "nasaLogsJulio.show(1, truncate = False)"
   ]
  },
  {
   "cell_type": "code",
   "execution_count": 9,
   "id": "04aa8730",
   "metadata": {},
   "outputs": [],
   "source": [
    "from pyspark.sql.types import *\n",
    "nasaLogs = nasaLogsJulio.withColumn(\"DateTime\", F.to_timestamp(F.col(\"_c3\"), \"dd/MMM/yyyy:HH:mm:ss\"))"
   ]
  },
  {
   "cell_type": "code",
   "execution_count": 10,
   "id": "be4e3c14",
   "metadata": {},
   "outputs": [
    {
     "name": "stdout",
     "output_type": "stream",
     "text": [
      "root\n",
      " |-- Host: string (nullable = true)\n",
      " |-- UserIdentifier: string (nullable = true)\n",
      " |-- UserId: string (nullable = true)\n",
      " |-- TimeZone: string (nullable = true)\n",
      " |-- HttpStatus: string (nullable = true)\n",
      " |-- Size: string (nullable = true)\n",
      " |-- RequestMethod: string (nullable = true)\n",
      " |-- Resource: string (nullable = true)\n",
      " |-- Protocol: string (nullable = true)\n",
      " |-- DateTime: timestamp (nullable = true)\n",
      "\n",
      "+------------+--------------+------+--------+----------+----+-------------+----------------+--------+-------------------+\n",
      "|Host        |UserIdentifier|UserId|TimeZone|HttpStatus|Size|RequestMethod|Resource        |Protocol|DateTime           |\n",
      "+------------+--------------+------+--------+----------+----+-------------+----------------+--------+-------------------+\n",
      "|199.72.81.55|-             |-     |-0400   |200       |6245|GET          |/history/apollo/|HTTP/1.0|1995-07-01 00:00:01|\n",
      "+------------+--------------+------+--------+----------+----+-------------+----------------+--------+-------------------+\n",
      "only showing top 1 row\n",
      "\n"
     ]
    }
   ],
   "source": [
    "nasaLogs = nasaLogs.drop(\"_c3\")\n",
    "nasaLogs.printSchema()\n",
    "nasaLogs.show(1,False)"
   ]
  },
  {
   "cell_type": "code",
   "execution_count": 11,
   "id": "276620ce",
   "metadata": {},
   "outputs": [
    {
     "name": "stdout",
     "output_type": "stream",
     "text": [
      "+------------+--------------+------+--------+----------+----+-------------+----------------+--------+-------------------+\n",
      "|Host        |UserIdentifier|UserId|TimeZone|HttpStatus|Size|RequestMethod|Resource        |Protocol|DateTime           |\n",
      "+------------+--------------+------+--------+----------+----+-------------+----------------+--------+-------------------+\n",
      "|199.72.81.55|-             |-     |-0400   |200       |6245|GET          |/history/apollo/|HTTP/1.0|1995-07-01 00:00:01|\n",
      "+------------+--------------+------+--------+----------+----+-------------+----------------+--------+-------------------+\n",
      "only showing top 1 row\n",
      "\n"
     ]
    }
   ],
   "source": [
    "nasaLogs.show(1,False)"
   ]
  },
  {
   "cell_type": "code",
   "execution_count": 12,
   "id": "bdedafc4",
   "metadata": {},
   "outputs": [],
   "source": [
    "nasaLogs = nasaLogs.withColumn(\"Date\",F.to_date(\"DateTime\"))\n",
    "nasaLogs = nasaLogs.withColumn('Time', F.date_format('DateTime', 'HH:mm:ss'))\n",
    "nasaLogs = nasaLogs.drop(\"DateTime\")"
   ]
  },
  {
   "cell_type": "code",
   "execution_count": 13,
   "id": "bea6c1c3",
   "metadata": {},
   "outputs": [],
   "source": [
    "nasaLogs = nasaLogs.select(\"Host\",\"UserIdentifier\",\"UserId\",\"Date\",\"Time\",\"TimeZone\",\"RequestMethod\",\"Resource\",\"Protocol\",\\\n",
    "                                     \"HttpStatus\",\"Size\")"
   ]
  },
  {
   "cell_type": "code",
   "execution_count": 14,
   "id": "efd1c909",
   "metadata": {},
   "outputs": [
    {
     "name": "stdout",
     "output_type": "stream",
     "text": [
      "root\n",
      " |-- Host: string (nullable = true)\n",
      " |-- UserIdentifier: string (nullable = true)\n",
      " |-- UserId: string (nullable = true)\n",
      " |-- Date: date (nullable = true)\n",
      " |-- Time: string (nullable = true)\n",
      " |-- TimeZone: string (nullable = true)\n",
      " |-- RequestMethod: string (nullable = true)\n",
      " |-- Resource: string (nullable = true)\n",
      " |-- Protocol: string (nullable = true)\n",
      " |-- HttpStatus: string (nullable = true)\n",
      " |-- Size: string (nullable = true)\n",
      "\n",
      "+------------+--------------+------+----------+--------+--------+-------------+----------------+--------+----------+----+\n",
      "|Host        |UserIdentifier|UserId|Date      |Time    |TimeZone|RequestMethod|Resource        |Protocol|HttpStatus|Size|\n",
      "+------------+--------------+------+----------+--------+--------+-------------+----------------+--------+----------+----+\n",
      "|199.72.81.55|-             |-     |1995-07-01|00:00:01|-0400   |GET          |/history/apollo/|HTTP/1.0|200       |6245|\n",
      "+------------+--------------+------+----------+--------+--------+-------------+----------------+--------+----------+----+\n",
      "only showing top 1 row\n",
      "\n"
     ]
    }
   ],
   "source": [
    "nasaLogs.printSchema()\n",
    "nasaLogs.show(1,False)"
   ]
  },
  {
   "cell_type": "raw",
   "id": "00ddc27b",
   "metadata": {},
   "source": [
    "#nasaLogs.write.partitionBy(\"Date\").mode(\"overwrite\").parquet(\"/tmp/output/people2.parquet\")\n",
    "parquet_NasaLogs = nasaLogs\n",
    "nasaLogs.write.partitionBy(\"Date\").format(\"parquet\").save(\"parquet_NasaLogs\")"
   ]
  },
  {
   "cell_type": "raw",
   "id": "7e2861f6",
   "metadata": {},
   "source": [
    "parquet_NasaLogsJulio = nasaLogsJulio\n",
    "nasaLogs.write.format(\"parquet\").save(\"parquet_NasaLogs\")"
   ]
  },
  {
   "cell_type": "raw",
   "id": "26745c79",
   "metadata": {},
   "source": [
    "Consultas a realizar:\n",
    "    1) - ¿Cuáles son los distintos protocolos web utilizados? Agrúpalos.\n",
    "    2) - ¿Cuáles son los códigos de estado más comunes en la web? Agrúpalos y ordénalos para ver cuál es el más común.\n",
    "    3) - ¿Y los métodos de petición (verbos) más utilizados?\n",
    "    4) - ¿Qué recurso tuvo la mayor transferencia de bytes de la página web?\n",
    "    5) - Además, queremos saber que recurso de nuestra web es el que más tráfico recibe. Es decir, el recurso con más registros \n",
    "         en nuestro log.\n",
    "    6) - ¿Qué días la web recibió más tráfico?\n",
    "    7) - ¿Cuáles son los hosts son los más frecuentes?\n",
    "    8) - ¿A qué horas se produce el mayor número de tráfico en la web?\n",
    "    9) - ¿Cuál es el número de errores 404 que ha habido cada día?"
   ]
  },
  {
   "cell_type": "markdown",
   "id": "39ccf71c",
   "metadata": {},
   "source": [
    "### Respuestas:  \n",
    "1) - ¿Cuáles son los distintos protocolos web utilizados? Agrúpalos."
   ]
  },
  {
   "cell_type": "code",
   "execution_count": 15,
   "id": "83978012",
   "metadata": {},
   "outputs": [],
   "source": [
    "uno = nasaLogs.groupBy(\"Protocol\").count().limit(1)\n",
    "uno = uno.withColumn(\"Consulta\", F.lit(\"Protocolo mas usado\"))"
   ]
  },
  {
   "cell_type": "markdown",
   "id": "e85eb3fd",
   "metadata": {},
   "source": [
    "2) - ¿Cuáles son los códigos de estado más comunes en la web? Agrúpalos y ordénalos para ver cuál es el más común."
   ]
  },
  {
   "cell_type": "code",
   "execution_count": 16,
   "id": "fc92c766",
   "metadata": {},
   "outputs": [],
   "source": [
    "dos = nasaLogs.groupBy(\"HttpStatus\").count().sort(F.col(\"count\").desc()).limit(1)\n",
    "dos = dos.withColumn(\"Consulta\", F.lit(\"HttpStatus mas comun\"))"
   ]
  },
  {
   "cell_type": "markdown",
   "id": "9a2b480c",
   "metadata": {},
   "source": [
    "3) - ¿Y los métodos de petición (verbos) más utilizados?"
   ]
  },
  {
   "cell_type": "code",
   "execution_count": 17,
   "id": "d0f8983a",
   "metadata": {},
   "outputs": [],
   "source": [
    "tres = nasaLogs.groupBy(\"RequestMethod\").count().sort(F.col(\"count\").desc()).limit(1)\n",
    "tres = tres.withColumn(\"Consulta\", F.lit(\"RequestMethod mas utilizado\"))"
   ]
  },
  {
   "cell_type": "markdown",
   "id": "fbb2d640",
   "metadata": {},
   "source": [
    "4) - ¿Qué recurso tuvo la mayor transferencia de bytes de la página web?"
   ]
  },
  {
   "cell_type": "code",
   "execution_count": 18,
   "id": "159de1e8",
   "metadata": {},
   "outputs": [],
   "source": [
    "cuatro = nasaLogs.select(F.col(\"Resource\"), F.col(\"Size\")).orderBy(F.col(\"Size\").desc()).limit(1)\n",
    "cuatro = cuatro.withColumn(\"Consulta\", F.lit(\"Resource con mas transferencia de bytes\"))"
   ]
  },
  {
   "cell_type": "markdown",
   "id": "2c7f44bf",
   "metadata": {},
   "source": [
    "5) - Además, queremos saber que recurso de nuestra web es el que más tráfico recibe. Es decir, el recurso con más registros \n",
    "         en nuestro log."
   ]
  },
  {
   "cell_type": "code",
   "execution_count": 19,
   "id": "2e772bbc",
   "metadata": {},
   "outputs": [],
   "source": [
    "cinco = nasaLogs.groupBy(\"Resource\").count().sort(F.col(\"count\").desc()).limit(1)\n",
    "cinco = cinco.withColumn(\"Consulta\", F.lit(\"Resource con mas registros\"))"
   ]
  },
  {
   "cell_type": "markdown",
   "id": "cd093f50",
   "metadata": {},
   "source": [
    "6) - ¿Qué días la web recibió más tráfico?"
   ]
  },
  {
   "cell_type": "code",
   "execution_count": 20,
   "id": "af53a4d9",
   "metadata": {},
   "outputs": [],
   "source": [
    "seis = nasaLogs.select(F.date_format(\"Date\",\"d\").alias(\"Dia\"))\\\n",
    "                                .groupBy(F.col(\"Dia\"))\\\n",
    "                                .agg(F.count(\"*\").alias(\"Trafico\"))\\\n",
    "                                .orderBy(F.desc(F.col(\"Trafico\")))\\\n",
    "                                .limit(1)\n",
    "seis = seis.withColumn(\"Consulta\", F.lit(\"Dia con mas trafico\"))"
   ]
  },
  {
   "cell_type": "markdown",
   "id": "ab4e60dd",
   "metadata": {},
   "source": [
    "7) - ¿Cuáles son los hosts más frecuentes?    "
   ]
  },
  {
   "cell_type": "code",
   "execution_count": 21,
   "id": "def67a22",
   "metadata": {},
   "outputs": [],
   "source": [
    "siete = nasaLogs.groupBy(\"Host\").count().sort(F.col(\"count\").desc()).limit(1)\n",
    "siete = siete.withColumn(\"Consulta\", F.lit(\"Host mas frecuente\"))"
   ]
  },
  {
   "cell_type": "markdown",
   "id": "8a8110b1",
   "metadata": {},
   "source": [
    "8) - ¿A qué horas se produce el mayor número de tráfico en la web?"
   ]
  },
  {
   "cell_type": "code",
   "execution_count": 22,
   "id": "f654ac08",
   "metadata": {},
   "outputs": [],
   "source": [
    "ocho = nasaLogs.select(F.date_format(\"Time\",\"H\").alias(\"Hora\"))\\\n",
    "                                .groupBy(F.col(\"Hora\"))\\\n",
    "                                .agg(F.count(\"*\").alias(\"Trafico\"))\\\n",
    "                                .orderBy(F.desc(F.col(\"Trafico\")))\\\n",
    "                                .limit(1)\n",
    "ocho = ocho.withColumn(\"Consulta\", F.lit(\"Hora con mayor trafico\"))"
   ]
  },
  {
   "cell_type": "markdown",
   "id": "713f875e",
   "metadata": {},
   "source": [
    "9) - ¿Cuál es el número de errores 404 que ha habido cada día?"
   ]
  },
  {
   "cell_type": "code",
   "execution_count": 23,
   "id": "c42b47b6",
   "metadata": {},
   "outputs": [],
   "source": [
    "nueve = nasaLogs.select(F.date_format(\"Date\",\"d\").alias(\"Dia\"),F.col(\"HttpStatus\"))\\\n",
    "                                .where(F.col(\"HttpStatus\") == 404)\\\n",
    "                                .groupBy(F.col(\"Dia\"))\\\n",
    "                                .agg(F.count(\"*\").alias(\"Errores\"))\\\n",
    "                                .orderBy(F.desc(F.col(\"Errores\")))\\\n",
    "                                .limit(1)\n",
    "nueve = nueve.withColumn(\"Consulta\", F.lit(\"Dia con mayor numero de error 404\"))"
   ]
  },
  {
   "cell_type": "markdown",
   "id": "f05b9f74",
   "metadata": {},
   "source": [
    "Otra consulta de la pregunta 9, solo por usar un pattern distinto del date_format"
   ]
  },
  {
   "cell_type": "code",
   "execution_count": 24,
   "id": "89b98842",
   "metadata": {},
   "outputs": [
    {
     "name": "stdout",
     "output_type": "stream",
     "text": [
      "+----------+-------+\n",
      "|DiaPalabra|Errores|\n",
      "+----------+-------+\n",
      "|Wed       |1941   |\n",
      "|Thu       |1935   |\n",
      "|Tue       |1756   |\n",
      "+----------+-------+\n",
      "only showing top 3 rows\n",
      "\n"
     ]
    }
   ],
   "source": [
    "nasaLogs.select(F.date_format('Date', 'E').alias('DiaPalabra'),F.col(\"HttpStatus\"))\\\n",
    "                                .where(F.col(\"HttpStatus\") == 404)\\\n",
    "                                .groupBy(F.col(\"DiaPalabra\"))\\\n",
    "                                .agg(F.count(\"*\").alias(\"Errores\"))\\\n",
    "                                .orderBy(F.desc(F.col(\"Errores\")))\\\n",
    "                                .show(3,False)"
   ]
  },
  {
   "cell_type": "markdown",
   "id": "865fd6f9",
   "metadata": {},
   "source": [
    "Unimos las preguntas en un unico dataframe"
   ]
  },
  {
   "cell_type": "code",
   "execution_count": 25,
   "id": "c59ec1a4",
   "metadata": {},
   "outputs": [],
   "source": [
    "diez = uno.union(dos)\n",
    "once = diez.union(tres)\n",
    "doce = once.union(cuatro)\n",
    "trece = doce.union(cinco)\n",
    "catorce = trece.union(seis)\n",
    "quince = catorce.union(siete)\n",
    "dieciseis = quince.union(ocho)\n",
    "diecisiete = dieciseis.union(nueve)"
   ]
  },
  {
   "cell_type": "code",
   "execution_count": 26,
   "id": "24ef489d",
   "metadata": {},
   "outputs": [],
   "source": [
    "dieciocho = diecisiete.withColumnRenamed(\"Protocol\",\"Respuesta\")\n",
    "dieciocho = dieciocho.select(\"Consulta\", \"Respuesta\", \"count\")"
   ]
  },
  {
   "cell_type": "code",
   "execution_count": 27,
   "id": "d59b5750",
   "metadata": {},
   "outputs": [
    {
     "name": "stdout",
     "output_type": "stream",
     "text": [
      "+---------------------------------------+------------------------------+-------+\n",
      "|Consulta                               |Respuesta                     |count  |\n",
      "+---------------------------------------+------------------------------+-------+\n",
      "|Protocolo mas usado                    |GET /ksc.html                 |159    |\n",
      "|HttpStatus mas comun                   |200                           |1701534|\n",
      "|RequestMethod mas utilizado            |GET                           |1887643|\n",
      "|Resource con mas transferencia de bytes|/images/cdrom-1-95/img0007.jpg|99981  |\n",
      "|Resource con mas registros             |/images/NASA-logosmall.gif    |111388 |\n",
      "|Dia con mas trafico                    |13                            |134203 |\n",
      "|Host mas frecuente                     |piweba3y.prodigy.com          |17572  |\n",
      "|Hora con mayor trafico                 |14                            |122479 |\n",
      "|Dia con mayor numero de error 404      |6                             |640    |\n",
      "+---------------------------------------+------------------------------+-------+\n",
      "\n"
     ]
    }
   ],
   "source": [
    "dieciocho.show(truncate=False)"
   ]
  },
  {
   "cell_type": "code",
   "execution_count": null,
   "id": "1b12827a",
   "metadata": {},
   "outputs": [],
   "source": []
  }
 ],
 "metadata": {
  "kernelspec": {
   "display_name": "Python 3",
   "language": "python",
   "name": "python3"
  },
  "language_info": {
   "codemirror_mode": {
    "name": "ipython",
    "version": 3
   },
   "file_extension": ".py",
   "mimetype": "text/x-python",
   "name": "python",
   "nbconvert_exporter": "python",
   "pygments_lexer": "ipython3",
   "version": "3.8.8"
  }
 },
 "nbformat": 4,
 "nbformat_minor": 5
}
